{
 "cells": [
  {
   "cell_type": "code",
   "execution_count": 1,
   "metadata": {},
   "outputs": [],
   "source": [
    "# connect to postgresql database called imdb_pg with user postgres and password postgres\n",
    "import pandas as pd\n",
    "import dave_imdb as di\n",
    "import matplotlib.pyplot as plt\n",
    "import seaborn as sns\n",
    "\n",
    "# set no max rows\n",
    "pd.set_option('display.max_rows', None)\n",
    "\n",
    "# connect to the database\n",
    "conn = di.connect_to_imdb_pg()   "
   ]
  },
  {
   "cell_type": "code",
   "execution_count": 2,
   "metadata": {},
   "outputs": [
    {
     "name": "stderr",
     "output_type": "stream",
     "text": [
      "e:\\Documents\\GitHub\\Dave_ML\\dave_imdb.py:12: UserWarning: pandas only supports SQLAlchemy connectable (engine/connection) or database string URI or sqlite3 DBAPI2 connection. Other DBAPI2 objects are not tested. Please consider using SQLAlchemy.\n",
      "  return pd.read_sql_query(\"SELECT * FROM name_basics WHERE primaryname ILIKE '%{}%';\".format(name), conn)\n"
     ]
    },
    {
     "data": {
      "text/html": [
       "<div>\n",
       "<style scoped>\n",
       "    .dataframe tbody tr th:only-of-type {\n",
       "        vertical-align: middle;\n",
       "    }\n",
       "\n",
       "    .dataframe tbody tr th {\n",
       "        vertical-align: top;\n",
       "    }\n",
       "\n",
       "    .dataframe thead th {\n",
       "        text-align: right;\n",
       "    }\n",
       "</style>\n",
       "<table border=\"1\" class=\"dataframe\">\n",
       "  <thead>\n",
       "    <tr style=\"text-align: right;\">\n",
       "      <th></th>\n",
       "      <th>nconst</th>\n",
       "      <th>primaryname</th>\n",
       "      <th>birthyear</th>\n",
       "      <th>deathyear</th>\n",
       "      <th>primaryprofession</th>\n",
       "      <th>knownfortitles</th>\n",
       "    </tr>\n",
       "  </thead>\n",
       "  <tbody>\n",
       "    <tr>\n",
       "      <th>0</th>\n",
       "      <td>nm0582939</td>\n",
       "      <td>Jason Mewes</td>\n",
       "      <td>1974.0</td>\n",
       "      <td>None</td>\n",
       "      <td>actor,producer,director</td>\n",
       "      <td>tt0109445,tt0424345,tt0120655,tt0261392</td>\n",
       "    </tr>\n",
       "  </tbody>\n",
       "</table>\n",
       "</div>"
      ],
      "text/plain": [
       "      nconst  primaryname  birthyear deathyear        primaryprofession  \\\n",
       "0  nm0582939  Jason Mewes     1974.0      None  actor,producer,director   \n",
       "\n",
       "                            knownfortitles  \n",
       "0  tt0109445,tt0424345,tt0120655,tt0261392  "
      ]
     },
     "execution_count": 2,
     "metadata": {},
     "output_type": "execute_result"
    }
   ],
   "source": [
    "# test the function\n",
    "searchname = \"Jason Mewes\"\n",
    "df = di.search_name_basics(searchname, conn)\n",
    "df.head(df.shape[0])"
   ]
  },
  {
   "cell_type": "code",
   "execution_count": 3,
   "metadata": {},
   "outputs": [
    {
     "name": "stderr",
     "output_type": "stream",
     "text": [
      "e:\\Documents\\GitHub\\Dave_ML\\dave_imdb.py:12: UserWarning: pandas only supports SQLAlchemy connectable (engine/connection) or database string URI or sqlite3 DBAPI2 connection. Other DBAPI2 objects are not tested. Please consider using SQLAlchemy.\n",
      "  return pd.read_sql_query(\"SELECT * FROM name_basics WHERE primaryname ILIKE '%{}%';\".format(name), conn)\n"
     ]
    },
    {
     "data": {
      "text/html": [
       "<div>\n",
       "<style scoped>\n",
       "    .dataframe tbody tr th:only-of-type {\n",
       "        vertical-align: middle;\n",
       "    }\n",
       "\n",
       "    .dataframe tbody tr th {\n",
       "        vertical-align: top;\n",
       "    }\n",
       "\n",
       "    .dataframe thead th {\n",
       "        text-align: right;\n",
       "    }\n",
       "</style>\n",
       "<table border=\"1\" class=\"dataframe\">\n",
       "  <thead>\n",
       "    <tr style=\"text-align: right;\">\n",
       "      <th></th>\n",
       "      <th>nconst</th>\n",
       "      <th>primaryname</th>\n",
       "      <th>birthyear</th>\n",
       "      <th>deathyear</th>\n",
       "      <th>primaryprofession</th>\n",
       "      <th>knownfortitles</th>\n",
       "    </tr>\n",
       "  </thead>\n",
       "  <tbody>\n",
       "    <tr>\n",
       "      <th>0</th>\n",
       "      <td>nm0000216</td>\n",
       "      <td>Arnold Schwarzenegger</td>\n",
       "      <td>1947.0</td>\n",
       "      <td>None</td>\n",
       "      <td>actor,producer,writer</td>\n",
       "      <td>tt0103064,tt0088247,tt0216216,tt0107362</td>\n",
       "    </tr>\n",
       "  </tbody>\n",
       "</table>\n",
       "</div>"
      ],
      "text/plain": [
       "      nconst            primaryname  birthyear deathyear  \\\n",
       "0  nm0000216  Arnold Schwarzenegger     1947.0      None   \n",
       "\n",
       "       primaryprofession                           knownfortitles  \n",
       "0  actor,producer,writer  tt0103064,tt0088247,tt0216216,tt0107362  "
      ]
     },
     "execution_count": 3,
     "metadata": {},
     "output_type": "execute_result"
    }
   ],
   "source": [
    "correct_row = 0\n",
    "nconst_1 = di.get_nconst(df, correct_row)\n",
    "searchname = \"Arnold Schwarzenegger\"\n",
    "df = di.search_name_basics(searchname, conn)\n",
    "df.head(df.shape[0])"
   ]
  },
  {
   "cell_type": "code",
   "execution_count": 4,
   "metadata": {},
   "outputs": [],
   "source": [
    "correct_row = 0\n",
    "nconst_2 = di.get_nconst(df, correct_row)"
   ]
  },
  {
   "cell_type": "code",
   "execution_count": 5,
   "metadata": {},
   "outputs": [
    {
     "name": "stdout",
     "output_type": "stream",
     "text": [
      "Depth:  1\n",
      "Number of actors for next iteration:  327\n",
      "Costars Investigated:  1\n",
      "Number of actors for next iteration:  426\n",
      "Costars Investigated:  2\n",
      "Number of actors for next iteration:  509\n",
      "Costars Investigated:  3\n",
      "Number of actors for next iteration:  706\n",
      "Costars Investigated:  4\n",
      "Number of actors for next iteration:  1108\n",
      "Costars Investigated:  5\n",
      "Number of actors for next iteration:  1578\n",
      "Costars Investigated:  6\n",
      "Number of actors for next iteration:  1696\n",
      "Costars Investigated:  7\n",
      "Number of actors for next iteration:  1863\n",
      "Costars Investigated:  8\n",
      "Number of actors for next iteration:  2167\n",
      "Costars Investigated:  9\n",
      "Number of actors for next iteration:  2426\n",
      "Costars Investigated:  10\n",
      "Number of actors for next iteration:  2767\n",
      "Costars Investigated:  11\n",
      "Number of actors for next iteration:  3117\n",
      "Costars Investigated:  12\n",
      "Number of actors for next iteration:  3146\n",
      "Costars Investigated:  13\n",
      "Number of actors for next iteration:  3451\n",
      "Costars Investigated:  14\n",
      "Number of actors for next iteration:  3579\n",
      "Costars Investigated:  15\n",
      "Number of actors for next iteration:  3600\n",
      "Costars Investigated:  16\n",
      "Number of actors for next iteration:  3797\n",
      "Costars Investigated:  17\n",
      "Number of actors for next iteration:  4309\n",
      "Costars Investigated:  18\n",
      "Number of actors for next iteration:  4736\n",
      "Costars Investigated:  19\n",
      "Number of actors for next iteration:  4745\n",
      "Costars Investigated:  20\n",
      "Number of actors for next iteration:  4879\n",
      "Costars Investigated:  21\n",
      "Number of actors for next iteration:  5091\n",
      "Costars Investigated:  22\n",
      "Number of actors for next iteration:  5134\n",
      "Costars Investigated:  23\n",
      "Number of actors for next iteration:  5158\n",
      "Costars Investigated:  24\n",
      "Number of actors for next iteration:  5253\n",
      "Costars Investigated:  25\n",
      "Number of actors for next iteration:  5318\n",
      "Costars Investigated:  26\n",
      "Number of actors for next iteration:  5437\n",
      "Costars Investigated:  27\n",
      "Number of actors for next iteration:  5503\n",
      "Costars Investigated:  28\n",
      "Number of actors for next iteration:  5645\n",
      "Costars Investigated:  29\n",
      "Number of actors for next iteration:  5687\n",
      "Costars Investigated:  30\n",
      "Number of actors for next iteration:  5702\n",
      "Costars Investigated:  31\n",
      "Number of actors for next iteration:  5782\n",
      "Costars Investigated:  32\n",
      "Number of actors for next iteration:  5817\n",
      "Costars Investigated:  33\n",
      "Number of actors for next iteration:  6046\n",
      "Costars Investigated:  34\n",
      "Number of actors for next iteration:  6376\n",
      "Costars Investigated:  35\n",
      "Number of actors for next iteration:  6726\n",
      "Costars Investigated:  36\n",
      "Number of actors for next iteration:  7176\n",
      "Costars Investigated:  37\n",
      "Number of actors for next iteration:  7226\n",
      "Costars Investigated:  38\n",
      "Number of actors for next iteration:  7828\n",
      "Costars Investigated:  39\n",
      "Number of actors for next iteration:  8160\n",
      "Costars Investigated:  40\n",
      "Number of actors for next iteration:  8431\n",
      "Costars Investigated:  41\n",
      "Number of actors for next iteration:  8741\n",
      "Costars Investigated:  42\n",
      "Number of actors for next iteration:  9099\n",
      "Costars Investigated:  43\n",
      "Number of actors for next iteration:  9222\n",
      "Costars Investigated:  44\n",
      "Number of actors for next iteration:  9475\n",
      "Costars Investigated:  45\n",
      "Number of actors for next iteration:  10046\n",
      "Costars Investigated:  46\n",
      "Number of actors for next iteration:  10308\n"
     ]
    },
    {
     "data": {
      "text/plain": [
       "[['nm0000411', 'nm0582939']]"
      ]
     },
     "execution_count": 5,
     "metadata": {},
     "output_type": "execute_result"
    }
   ],
   "source": [
    "import warnings\n",
    "warnings.filterwarnings(\"ignore\", category=UserWarning, message=\"pandas only supports SQLAlchemy\")\n",
    "di.bacon_algorithm(nconst_1, nconst_2, conn)"
   ]
  },
  {
   "cell_type": "code",
   "execution_count": 8,
   "metadata": {},
   "outputs": [
    {
     "data": {
      "text/html": [
       "<div>\n",
       "<style scoped>\n",
       "    .dataframe tbody tr th:only-of-type {\n",
       "        vertical-align: middle;\n",
       "    }\n",
       "\n",
       "    .dataframe tbody tr th {\n",
       "        vertical-align: top;\n",
       "    }\n",
       "\n",
       "    .dataframe thead th {\n",
       "        text-align: right;\n",
       "    }\n",
       "</style>\n",
       "<table border=\"1\" class=\"dataframe\">\n",
       "  <thead>\n",
       "    <tr style=\"text-align: right;\">\n",
       "      <th></th>\n",
       "      <th>primaryname</th>\n",
       "    </tr>\n",
       "  </thead>\n",
       "  <tbody>\n",
       "    <tr>\n",
       "      <th>0</th>\n",
       "      <td>Edward Furlong</td>\n",
       "    </tr>\n",
       "  </tbody>\n",
       "</table>\n",
       "</div>"
      ],
      "text/plain": [
       "      primaryname\n",
       "0  Edward Furlong"
      ]
     },
     "execution_count": 8,
     "metadata": {},
     "output_type": "execute_result"
    }
   ],
   "source": [
    "# look up the name of the actor with nconst nm0582939\n",
    "nconst = 'nm0000411'\n",
    "query = f\"SELECT primaryname FROM name_basics WHERE nconst = '{nconst}'\"\n",
    "pd.read_sql_query(query, conn)\n"
   ]
  },
  {
   "cell_type": "code",
   "execution_count": null,
   "metadata": {},
   "outputs": [],
   "source": [
    "\n",
    "actor_movies = di.get_actor_movies(nconst, conn)\n",
    "actor_movies.head(actor_movies.shape[0])\n",
    "# plot year on x and averagerating on y\n",
    "plt.figure(figsize=(12, 8))\n",
    "plt.scatter(actor_movies[\"startyear\"], actor_movies[\"averagerating\"])\n",
    "plt.xlabel(\"Year\")\n",
    "plt.ylabel(\"Average Rating\")\n",
    "plt.ylim(0, 10)\n",
    "plt.title(\"Average Rating of Movies Over Time\")\n",
    "plt.show()\n"
   ]
  },
  {
   "cell_type": "code",
   "execution_count": null,
   "metadata": {},
   "outputs": [],
   "source": [
    "# show the rows of tc_costars dataframe where primaryname column is Timothy Olyphant\n",
    "to = tc_costars[tc_costars[\"primaryname\"] == \"Frank Vincent\"]\n",
    "#to = to.merge(pd.read_sql_query(\"SELECT * FROM title_basics;\", conn), on=\"tconst\")\n",
    "to.head(to.shape[0])\n"
   ]
  }
 ],
 "metadata": {
  "kernelspec": {
   "display_name": ".venv",
   "language": "python",
   "name": "python3"
  },
  "language_info": {
   "codemirror_mode": {
    "name": "ipython",
    "version": 3
   },
   "file_extension": ".py",
   "mimetype": "text/x-python",
   "name": "python",
   "nbconvert_exporter": "python",
   "pygments_lexer": "ipython3",
   "version": "3.12.3"
  }
 },
 "nbformat": 4,
 "nbformat_minor": 2
}
