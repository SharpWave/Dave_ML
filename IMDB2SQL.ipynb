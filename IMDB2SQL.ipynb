{
 "cells": [
  {
   "cell_type": "code",
   "execution_count": 2,
   "metadata": {},
   "outputs": [
    {
     "name": "stderr",
     "output_type": "stream",
     "text": [
      "C:\\Users\\Dave\\AppData\\Local\\Temp\\ipykernel_24356\\326601405.py:11: DtypeWarning: Columns (4) have mixed types. Specify dtype option on import or set low_memory=False.\n",
      "  title_basics = pd.read_csv('title.basics.tsv', sep='\\t')\n"
     ]
    }
   ],
   "source": [
    "# IMDB exploration\n",
    "import pandas as pd\n",
    "\n",
    "# import name.basics.tsv\n",
    "name_basics = pd.read_csv('name.basics.tsv', sep='\\t')\n",
    "name_basics.head()\n",
    "# re-index on nconst\n",
    "name_basics.set_index('nconst', inplace=True)\n",
    "\n",
    "# import title.basics.tsv\n",
    "title_basics = pd.read_csv('title.basics.tsv', sep='\\t')\n",
    "title_basics.head()\n",
    "# re-index on tconst\n",
    "title_basics.set_index('tconst', inplace=True)\n",
    "\n",
    "# import title.principals.tsv\n",
    "title_principals = pd.read_csv('title.principals.tsv', sep='\\t')\n",
    "title_principals.head()\n",
    "# re-index on tconst\n",
    "title_principals.set_index('tconst', inplace=True)\n",
    "\n",
    "# import title.ratings.tsv\n",
    "title_ratings = pd.read_csv('title.ratings.tsv', sep='\\t')\n",
    "title_ratings.head()\n",
    "# re-index on tconst\n",
    "title_ratings.set_index('tconst', inplace=True)\n",
    "\n",
    "# import title.crew.tsv\n",
    "title_crew = pd.read_csv('title.crew.tsv', sep='\\t')\n",
    "title_crew.head()\n",
    "# re-index on tconst\n",
    "title_crew.set_index('tconst', inplace=True)\n",
    "\n",
    "# import title.akas.tsv\n",
    "title_akas = pd.read_csv('title.akas.tsv', sep='\\t')\n",
    "title_akas.head()\n",
    "# re-index on titleId\n",
    "title_akas.set_index('titleId', inplace=True)\n",
    "\n",
    "# import title.episode.tsv\n",
    "title_episode = pd.read_csv('title.episode.tsv', sep='\\t')\n",
    "title_episode.head()\n",
    "# re-index on tconst\n",
    "title_episode.set_index('tconst', inplace=True)"
   ]
  },
  {
   "cell_type": "code",
   "execution_count": 3,
   "metadata": {},
   "outputs": [],
   "source": [
    "# ok now add all of theses dataframes to SQL database\n",
    "import sqlite3\n",
    "conn = sqlite3.connect('imdb.db')\n",
    "name_basics.to_sql('name_basics', conn)\n",
    "title_basics.to_sql('title_basics', conn)\n",
    "title_principals.to_sql('title_principals', conn)\n",
    "title_ratings.to_sql('title_ratings', conn)\n",
    "title_crew.to_sql('title_crew', conn)\n",
    "title_akas.to_sql('title_akas', conn)\n",
    "title_episode.to_sql('title_episode', conn)\n",
    "\n",
    "# now close the connection\n",
    "conn.close()\n",
    "\n",
    "\n"
   ]
  }
 ],
 "metadata": {
  "kernelspec": {
   "display_name": ".venv",
   "language": "python",
   "name": "python3"
  },
  "language_info": {
   "codemirror_mode": {
    "name": "ipython",
    "version": 3
   },
   "file_extension": ".py",
   "mimetype": "text/x-python",
   "name": "python",
   "nbconvert_exporter": "python",
   "pygments_lexer": "ipython3",
   "version": "3.12.3"
  }
 },
 "nbformat": 4,
 "nbformat_minor": 2
}
