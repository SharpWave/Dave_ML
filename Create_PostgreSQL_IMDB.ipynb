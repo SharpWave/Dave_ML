{
 "cells": [
  {
   "cell_type": "code",
   "execution_count": 5,
   "metadata": {},
   "outputs": [
    {
     "name": "stdout",
     "output_type": "stream",
     "text": [
      "Database created successfully!\n"
     ]
    }
   ],
   "source": [
    "import psycopg2\n",
    "\n",
    "# Connect to PostgreSQL\n",
    "conn = psycopg2.connect(\n",
    "    dbname=\"postgres\",   # default database name\n",
    "    user=\"postgres\",  # your PostgreSQL username\n",
    "    password=\"Dave_PostgreSQL_Home\",\n",
    "    host=\"localhost\",  # Assuming you're running PostgreSQL locally\n",
    "    port=\"5432\"  # Default port for PostgreSQL\n",
    ")\n",
    "conn.autocommit = True\n",
    "cursor = conn.cursor()\n",
    "\n",
    "# Create a new database\n",
    "cursor.execute(\"CREATE DATABASE IMDB_pg;\")\n",
    "cursor.close()\n",
    "conn.close()\n",
    "\n",
    "print(\"Database created successfully!\")"
   ]
  }
 ],
 "metadata": {
  "kernelspec": {
   "display_name": ".venv",
   "language": "python",
   "name": "python3"
  },
  "language_info": {
   "codemirror_mode": {
    "name": "ipython",
    "version": 3
   },
   "file_extension": ".py",
   "mimetype": "text/x-python",
   "name": "python",
   "nbconvert_exporter": "python",
   "pygments_lexer": "ipython3",
   "version": "3.12.3"
  }
 },
 "nbformat": 4,
 "nbformat_minor": 2
}
